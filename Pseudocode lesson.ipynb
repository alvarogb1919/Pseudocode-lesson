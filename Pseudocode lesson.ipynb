{
 "cells": [
  {
   "cell_type": "code",
   "execution_count": 1,
   "metadata": {},
   "outputs": [
    {
     "name": "stdout",
     "output_type": "stream",
     "text": [
      "Gandalf wins!\n"
     ]
    }
   ],
   "source": [
    "gandalf = [10, 11, 13, 30, 22, 11, 10, 33, 22, 22]\n",
    "saruman = [23, 66, 12, 43, 12, 10, 44, 23, 12, 17]\n",
    "\n",
    "total_gandalf_wins = 0\n",
    "total_saruman_wins = 0\n",
    "\n",
    "for i in range(0,len(gandalf)):\n",
    "    if(gandalf[i] > saruman[i]):\n",
    "        total_gandalf_wins += 1\n",
    "    elif(saruman[i] > gandalf[i]):\n",
    "        total_saruman_wins += 1\n",
    "        \n",
    "if (total_gandalf_wins > total_saruman_wins):\n",
    "    print('Gandalf wins!')\n",
    "elif(total_saruman_wins > total_gandalf_wins):\n",
    "    print('Saruman wins!')\n",
    "else:\n",
    "    print('Its a tie!')"
   ]
  },
  {
   "cell_type": "code",
   "execution_count": null,
   "metadata": {},
   "outputs": [],
   "source": [
    "Pseudocode:\n",
    "\n",
    "- Create variables and assign spell power lists to them\n",
    "- Create variables to store number of wins by Gandalf and by Saruman. Assign 0 to each variable that stores the wins.\n",
    "- Execute the spell clashes. Iterate on the length of any one list:\n",
    "  - Compare consecutive powers\n",
    "  - If Gandalf wins update victory for Gandalf \n",
    "  - else if Saruman wins update the victory for Saruman \n",
    "  - else it is a tie\n",
    "- If Gandalf's wins are greater than Saruman's - print Gandalf wins\n",
    "- Else if Saruman wins are greater than Gandalf's - print Saruman wins\n",
    "- Else print there is a tie"
   ]
  },
  {
   "cell_type": "code",
   "execution_count": null,
   "metadata": {},
   "outputs": [],
   "source": []
  }
 ],
 "metadata": {
  "kernelspec": {
   "display_name": "Python 3",
   "language": "python",
   "name": "python3"
  },
  "language_info": {
   "codemirror_mode": {
    "name": "ipython",
    "version": 3
   },
   "file_extension": ".py",
   "mimetype": "text/x-python",
   "name": "python",
   "nbconvert_exporter": "python",
   "pygments_lexer": "ipython3",
   "version": "3.8.5"
  }
 },
 "nbformat": 4,
 "nbformat_minor": 4
}
